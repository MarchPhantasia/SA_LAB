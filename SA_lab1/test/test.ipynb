{
 "cells": [
  {
   "cell_type": "code",
   "execution_count": 102,
   "metadata": {},
   "outputs": [],
   "source": [
    "from dotenv import load_dotenv\n",
    "from langgraph.checkpoint.memory import MemorySaver\n",
    "from langgraph.graph import START, MessagesState, StateGraph\n",
    "from langchain_core.messages import AIMessage, HumanMessage, BaseMessage, AIMessageChunk\n",
    "from langchain_community.chat_models import ChatZhipuAI\n",
    "from langchain_core.prompts import ChatPromptTemplate, MessagesPlaceholder\n",
    "import os\n",
    "from typing import Sequence\n",
    "from typing_extensions import Annotated, TypedDict\n",
    "from langgraph.graph.message import add_messages\n",
    "from typing import Dict, Any"
   ]
  },
  {
   "cell_type": "code",
   "execution_count": 91,
   "metadata": {},
   "outputs": [],
   "source": [
    "class State(TypedDict):\n",
    "    input: str\n",
    "    chat_history: Annotated[Sequence[BaseMessage], add_messages]\n",
    "    answer: str\n",
    "    metadata: Dict[str,Any]"
   ]
  },
  {
   "cell_type": "code",
   "execution_count": 92,
   "metadata": {},
   "outputs": [],
   "source": [
    "load_dotenv()\n",
    "ZHIPU_API_KEY = os.getenv(\"ZHIPU_API_KEY\")\n",
    "llm = ChatZhipuAI(\n",
    "    api_key=ZHIPU_API_KEY,\n",
    "    temperature=0.5,\n",
    "    model=\"glm-4-flash\",\n",
    "    streaming=True,\n",
    "    stream_usage=True\n",
    ")"
   ]
  },
  {
   "cell_type": "code",
   "execution_count": 93,
   "metadata": {},
   "outputs": [],
   "source": [
    "system_prompt = \"你是一个为了软件架构而生的AI助手，辅助进行软件架构设计，你的名字是HIT软件架构小助手\"\n",
    "prompt = ChatPromptTemplate.from_messages(\n",
    "    [\n",
    "        (\"system\", system_prompt),\n",
    "        MessagesPlaceholder(\"chat_history\"),\n",
    "        (\"human\", \"{input}\"),\n",
    "    ]\n",
    ")"
   ]
  },
  {
   "cell_type": "code",
   "execution_count": 104,
   "metadata": {},
   "outputs": [
    {
     "data": {
      "text/plain": [
       "<langgraph.graph.state.StateGraph at 0x1200212e0>"
      ]
     },
     "execution_count": 104,
     "metadata": {},
     "output_type": "execute_result"
    }
   ],
   "source": [
    "chain = prompt | llm\n",
    "\n",
    "\n",
    "def call_model(state: State):\n",
    "\n",
    "    response = chain.invoke(state)\n",
    "    return {\n",
    "        \"chat_history\": [\n",
    "            HumanMessage(state[\"input\"]),\n",
    "            AIMessage(response.content),\n",
    "        ],\n",
    "        \"answer\": response.content,\n",
    "        \"metadata\": response.response_metadata,\n",
    "    }\n",
    "\n",
    "\n",
    "# Define a new graph\n",
    "workflow = StateGraph(state_schema=State)\n",
    "\n",
    "# Define the (single) node in the graph\n",
    "workflow.add_edge(START, \"llm\")\n",
    "# workflow.add_node(\"llm\", call_model)\n"
   ]
  },
  {
   "cell_type": "code",
   "execution_count": 105,
   "metadata": {},
   "outputs": [],
   "source": [
    "def add_history(state: State):\n",
    "    state[\"chat_history\"].append(HumanMessage(\"hello\"))\n",
    "    \n",
    "# workflow.add_node(\"history_update\", add_history)\n",
    "workflow.add_node(\"llm\", call_model)\n",
    "# workflow.add_edge(\"history_update\", \"llm\")\n",
    "# Add memory\n",
    "memory = MemorySaver()\n",
    "app = workflow.compile(checkpointer=memory)"
   ]
  },
  {
   "cell_type": "code",
   "execution_count": 111,
   "metadata": {},
   "outputs": [
    {
     "name": "stdout",
     "output_type": "stream",
     "text": [
      "<generator object start at 0x116e7d540>\n"
     ]
    }
   ],
   "source": [
    "config = {\"configurable\": {\"thread_id\": \"aa22\"}}\n",
    "query = \"你好，我叫Bob\"\n",
    "def start():\n",
    "    for msg,metadata in app.stream({'input':'你好'},config=config,stream_mode='messages'):\n",
    "        if isinstance(msg, AIMessageChunk):\n",
    "            yield msg.content\n",
    "print(start())"
   ]
  },
  {
   "cell_type": "code",
   "execution_count": 1,
   "metadata": {},
   "outputs": [],
   "source": [
    "from dbutils.pooled_db import PooledDB\n",
    "import pymysql\n",
    "import json\n",
    "connection_pool = PooledDB(\n",
    "    creator=pymysql,\n",
    "    db=\"sharding_db\",\n",
    "    user=\"root\",\n",
    "    password=\"root\",\n",
    "    host=\"192.168.2.8\",\n",
    "    port=3321,\n",
    "    mincached=2,  # 最小空闲连接数\n",
    "    maxcached=5,  # 最大空闲连接数\n",
    "    maxconnections=None,  # 最大连接数\n",
    ")\n",
    "conn = connection_pool.connection()\n",
    "cursor = conn.cursor()"
   ]
  },
  {
   "cell_type": "code",
   "execution_count": 4,
   "metadata": {},
   "outputs": [],
   "source": [
    "message = {\n",
    "    \"conversation_id\":\"3590f90f-f04b-4388-8bde-cea5b4720b4a\",\n",
    "    \"title\":\"hello\",\n",
    "    \"chat_history\":[\n",
    "        {\"role\": \"user\", \"content\": \"Hello!\"},\n",
    "        {\"role\": \"assistant\", \"content\": \"Hi, how can I help you?\"}\n",
    "    ],\n",
    "    \"tokens_used\": 5\n",
    "}\n",
    "conversation_id = message.get(\"conversation_id\", \"\")\n",
    "tokens_used = message.get(\"tokens_used\", 0)\n",
    "chat_history = message.get(\"chat_history\", \"\")\n",
    "chat_history = json.dumps(chat_history)\n",
    "title = message.get(\"title\", \"\")"
   ]
  },
  {
   "cell_type": "code",
   "execution_count": 5,
   "metadata": {},
   "outputs": [],
   "source": [
    "cursor.execute(\n",
    "    \"\"\"\n",
    "    INSERT INTO t_chat_history (conversation_id, title, chat_history, token_usage)\n",
    "    VALUES (%s, %s, %s, %s)\n",
    "    ON DUPLICATE KEY UPDATE\n",
    "        title = VALUES(title),\n",
    "        chat_history = VALUES(chat_history),\n",
    "        token_usage = VALUES(token_usage)\n",
    "    \"\"\",\n",
    "    (conversation_id, title, chat_history, tokens_used),\n",
    ")\n",
    "conn.commit()"
   ]
  }
 ],
 "metadata": {
  "kernelspec": {
   "display_name": "sa_lab1",
   "language": "python",
   "name": "python3"
  },
  "language_info": {
   "codemirror_mode": {
    "name": "ipython",
    "version": 3
   },
   "file_extension": ".py",
   "mimetype": "text/x-python",
   "name": "python",
   "nbconvert_exporter": "python",
   "pygments_lexer": "ipython3",
   "version": "3.12.7"
  }
 },
 "nbformat": 4,
 "nbformat_minor": 2
}
